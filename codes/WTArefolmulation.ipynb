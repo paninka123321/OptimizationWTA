{
 "cells": [
  {
   "cell_type": "code",
   "execution_count": null,
   "id": "d7d7374e",
   "metadata": {},
   "outputs": [],
   "source": []
  },
  {
   "cell_type": "markdown",
   "id": "7824b067",
   "metadata": {},
   "source": [
    "# Weapon - Target Allocation problem"
   ]
  },
  {
   "cell_type": "markdown",
   "id": "29120896",
   "metadata": {},
   "source": [
    "We need for sure:\n",
    "* Matrix P, where p_{i,j} - the probability weapon i destroys target j\n",
    "* Matrix V, where v(i,j) - the ability of the SAM j system to attack the ASM i.\n",
    "* Vector X, where x_{i,j} - nr of weapons of type i assigned to target j\n",
    "* hi - the minimum desired probability of shooting-down ASM i, 0 < hi < 1, i ∈ N .\n",
    "* n - nr of targets\n",
    "* m - the number of weapons\n",
    "* xij : whether we launch missiles of SAM system j against ASM i or not 1 = true, 0 = false, (i, j ) ∈ v(i, j )."
   ]
  },
  {
   "cell_type": "markdown",
   "id": "f4a6d314",
   "metadata": {},
   "source": [
    "The basic assumptions that are needed for models are:\n",
    "\n",
    "* The TG sees all the air threats to intercept simultaneously. Thus, we investigate the case where the attack size is known.\n",
    "* The ships in the TG are capable of coordinating the allocation of the air defense.\n",
    "* The incoming ASMs are assumed to be classified such as subsonic sea-skimmer, supersonic high diver, etc. Thus, the single shot kill probability of each SAM against each ASM is known and does not change with the distance to the ASM.\n",
    "* The relative positions of the ships within TG do not change as the air raid continues. The ships are thought to be stationary. This is a reasonable assumption since the speed of the ships is very low compared to the speed of the ASMs.\n",
    "* Defense systems may predict the eventual target of attacking ASMs.\n",
    "* The TG has both point and anti-areal denial (AAD) missile systems. A point defense system may intercept the attackers that are attacking its own ship. An area defense system may intercept attackers within the area of its effective range."
   ]
  },
  {
   "cell_type": "markdown",
   "id": "e370891c",
   "metadata": {},
   "source": [
    "Formula:"
   ]
  },
  {
   "cell_type": "markdown",
   "id": "c4e6d827",
   "metadata": {},
   "source": [
    "problem = maximum_{i \\in n} ⎍ (1 - ⎍_{j \\in m | (i,j) \\in v(i,j)} (1-p_{i,j}^x_{i,j})), where x_{i,j} <= 1> ⍱ j \\in m"
   ]
  },
  {
   "cell_type": "markdown",
   "id": "38168924",
   "metadata": {},
   "source": [
    "When we introduce hi we can redagade above problem as follow:"
   ]
  },
  {
   "cell_type": "markdown",
   "id": "49420c30",
   "metadata": {},
   "source": [
    "problem' = 1 - ⎍_{j \\in m | (i,j) \\in v(i,j)} (1-p_{i,j}^x_{i,j})>= hi ⍱ i \\in n, where x_{i,j} <= 1> ⍱ j \\in m"
   ]
  },
  {
   "cell_type": "markdown",
   "id": "6f20c5c0",
   "metadata": {},
   "source": [
    "The resulting integer linear programming model (P1) is:The resulting integer linear programming model (P1) is:"
   ]
  },
  {
   "cell_type": "markdown",
   "id": "3510f8b7",
   "metadata": {},
   "source": [
    "(P1) min sum(x_{i,j}) <- we want to minimize the number of shoots by SAM (weapons), given that: \n",
    "\n",
    "    sum_{j \\in m | (i,j) \\in v_{i,j}} aij * xij > bi ⍱ i \\in n, \n",
    "    \n",
    "where aij =⌊−ℬln(1−pij)⌋ and bi =⌊−ℬln(1−hi)⌋"
   ]
  },
  {
   "cell_type": "markdown",
   "id": "4a47a631",
   "metadata": {},
   "source": [
    "The same with P2"
   ]
  },
  {
   "cell_type": "markdown",
   "id": "9bdf1691",
   "metadata": {},
   "source": []
  }
 ],
 "metadata": {
  "language_info": {
   "name": "python"
  }
 },
 "nbformat": 4,
 "nbformat_minor": 5
}
